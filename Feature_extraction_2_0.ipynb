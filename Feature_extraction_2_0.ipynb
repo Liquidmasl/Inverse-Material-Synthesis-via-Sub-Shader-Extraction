{
 "nbformat": 4,
 "nbformat_minor": 0,
 "metadata": {
  "colab": {
   "provenance": []
  },
  "kernelspec": {
   "name": "python3",
   "display_name": "Python 3"
  },
  "language_info": {
   "name": "python"
  }
 },
 "cells": [
  {
   "cell_type": "code",
   "source": [
    "import numpy as np\n",
    "import OpenEXR as exr\n",
    "import Imath\n",
    "\n",
    "def readEXR(filename, convert_to_sRGB = False):\n",
    "    \"\"\"Read color + depth data from EXR image file.\n",
    "\n",
    "    Parameters\n",
    "    ----------\n",
    "    filename : str\n",
    "        File path.\n",
    "\n",
    "    Returns\n",
    "    -------\n",
    "    img : RGB or RGBA image in float32 format. Each color channel\n",
    "          lies within the interval [0, 1].\n",
    "          Color conversion from linear RGB to standard RGB is performed\n",
    "          internally. See https://en.wikipedia.org/wiki/SRGB#The_forward_transformation_(CIE_XYZ_to_sRGB)\n",
    "          for more information.\n",
    "\n",
    "    Z : Depth buffer in float32 format or None if the EXR file has no Z channel.\n",
    "    \"\"\"\n",
    "\n",
    "    exrfile = exr.InputFile(filename)\n",
    "    header = exrfile.header()\n",
    "\n",
    "    dw = header['dataWindow']\n",
    "    isize = (dw.max.y - dw.min.y + 1, dw.max.x - dw.min.x + 1)\n",
    "\n",
    "    channelData = dict()\n",
    "\n",
    "    # convert all channels in the image to numpy arrays\n",
    "    for c in header['channels']:\n",
    "        C = exrfile.channel(c, Imath.PixelType(Imath.PixelType.FLOAT))\n",
    "        C = np.fromstring(C, dtype=np.float32)\n",
    "        C = np.reshape(C, isize)\n",
    "\n",
    "        channelData[c] = C\n",
    "\n",
    "    colorChannels = ['R', 'G', 'B', 'A'] if 'A' in header['channels'] else ['R', 'G', 'B']\n",
    "    img = np.concatenate([channelData[c][...,np.newaxis] for c in colorChannels], axis=2)\n",
    "\n",
    "    # linear to standard RGB\n",
    "    if convert_to_sRGB:\n",
    "      img[..., :3] = np.where(img[..., :3] <= 0.0031308,\n",
    "                            12.92 * img[..., :3],\n",
    "                            1.055 * np.power(img[..., :3], 1 / 2.4) - 0.055)\n",
    "\n",
    "    # sanitize image to be in range [0, 1]\n",
    "    img = np.where(img < 0.0, 0.0, np.where(img > 1.0, 1, img))\n",
    "\n",
    "    #I dont need Z, discarded\n",
    "    #Z = None if 'Z' not in header['channels'] else channelData['Z']\n",
    "\n",
    "    return img"
   ],
   "metadata": {
    "id": "AtO27lcVDjSh"
   },
   "execution_count": null,
   "outputs": []
  },
  {
   "cell_type": "markdown",
   "source": [
    "Okay, Ima try this again. I will Recalculate the gram matrices, this time useing torch instead of tf\n",
    "I believe I made some crucial mistakes last time\n",
    "\n",
    "Todo:\n",
    "\n",
    "\n",
    "*   Adapt code, its for style transfer now, dont need a lot of whats going on\n",
    "**  Remove content layer stuff\n",
    "**  check if module/layer variables can be read after something got pushed through the network\n",
    "*   After gram generation, check value space, if nescessary normalize (I think it might not be nescessary this time)\n",
    "*\n",
    "\n"
   ],
   "metadata": {
    "id": "xy5X3DcAPWcS"
   }
  },
  {
   "cell_type": "code",
   "execution_count": null,
   "metadata": {
    "id": "HGUNqDWOHATP"
   },
   "outputs": [],
   "source": [
    "from __future__ import print_function\n",
    "\n",
    "import torch\n",
    "import torch.nn as nn\n",
    "import torch.nn.functional as F\n",
    "import torch.optim as optim\n",
    "\n",
    "from PIL import Image\n",
    "import matplotlib.pyplot as plt\n",
    "\n",
    "import torchvision.transforms as transforms\n",
    "import torchvision.models as models\n",
    "import os\n",
    "import copy\n",
    "\n",
    "from tqdm import tqdm  # For nice progress bar!"
   ]
  },
  {
   "cell_type": "code",
   "source": [
    "device = torch.device(\"cuda\" if torch.cuda.is_available() else \"cpu\")"
   ],
   "metadata": {
    "id": "p8mM9GuWHJZ7"
   },
   "execution_count": null,
   "outputs": []
  },
  {
   "cell_type": "code",
   "source": [
    "# desired size of the output image\n",
    "imsize = 224\n",
    "\n",
    "loader = transforms.Compose([\n",
    "    #transforms.Resize([imsize, imsize]),  # scale imported image\n",
    "    transforms.ToTensor()])  # transform it into a torch tensor\n",
    "\n",
    "def image_loader(image_name):\n",
    "    if (image_name.endswith(\".exr\")):\n",
    "      image = readEXR(image_name)\n",
    "      #image = Image.fromarray(np.uint8(image)).convert('RGB')\n",
    "    else:\n",
    "      image = Image.open(image_name).convert('RGB')\n",
    "\n",
    "    #print(image)\n",
    "    #image.convert('RGB')\n",
    "    # fake batch dimension required to fit network's input dimensions\n",
    "    image = loader(image).unsqueeze(0)[:,:3,16:240,16:240]\n",
    "\n",
    "    #print(\"shape\" + str(image.shape))\n",
    "    return image.to(device, torch.float)"
   ],
   "metadata": {
    "id": "i4Ujb4KUHhUO"
   },
   "execution_count": null,
   "outputs": []
  },
  {
   "cell_type": "code",
   "source": [
    "unloader = transforms.ToPILImage()  # reconvert into PIL image\n",
    "\n",
    "plt.ion()\n",
    "\n",
    "def imshow(tensor, title=None):\n",
    "    image = tensor.cpu().clone()  # we clone the tensor to not do changes on it\n",
    "    image = image.squeeze(0)      # remove the fake batch dimension\n",
    "    image = unloader(image)\n",
    "    plt.figure()\n",
    "    plt.imshow(image)\n",
    "    if title is not None:\n",
    "        plt.title(title)\n",
    "    plt.pause(0.001) # pause a bit so that plots are updated\n",
    "\n",
    "#plt.figure()\n",
    "#imshow(style_img, title='Style Image')\n",
    "\n",
    "#plt.figure()\n",
    "#imshow(content_img, title='Content Image')"
   ],
   "metadata": {
    "id": "sJF_ZVDWHhNC"
   },
   "execution_count": null,
   "outputs": []
  },
  {
   "cell_type": "code",
   "source": [
    "def gram_matrix(input):\n",
    "\n",
    "    a, b, c, d = input.size()  # a=batch size(=1)\n",
    "    # b=number of feature maps\n",
    "    # (c,d)=dimensions of a f. map (N=c*d)\n",
    "\n",
    "    features = input.view(a * b, c * d)  # resise F_XL into \\hat F_XL\n",
    "\n",
    "    G = torch.mm(features, features.t())  # compute the gram product\n",
    "\n",
    "    return G.div(c * d) # I still dont quite understand why this normalization is done. but it does help to get the values somewhat closer together."
   ],
   "metadata": {
    "id": "W-bnabkVNljn"
   },
   "execution_count": null,
   "outputs": []
  },
  {
   "cell_type": "code",
   "source": [
    "# class StyleLoss(nn.Module):\n",
    "\n",
    "#     def __init__(self, target_feature):\n",
    "#         super(StyleLoss, self).__init__()\n",
    "#         self.target = gram_matrix(target_feature).detach()\n",
    "\n",
    "#     def forward(self, input):\n",
    "#         self.gram = gram_matrix(input)\n",
    "#         self.loss = F.mse_loss(G, self.target)\n",
    "#         return input"
   ],
   "metadata": {
    "id": "yBX5UMjuOqCb"
   },
   "execution_count": null,
   "outputs": []
  },
  {
   "cell_type": "code",
   "source": [
    "class StyleExtract(nn.Module):\n",
    "\n",
    "    def __init__(self):\n",
    "        super(StyleExtract, self).__init__()\n",
    "\n",
    "    def forward(self, input):\n",
    "        self.gram = gram_matrix(input)\n",
    "        return input"
   ],
   "metadata": {
    "id": "5YoCXmiwxC7W"
   },
   "execution_count": null,
   "outputs": []
  },
  {
   "cell_type": "code",
   "source": [
    "cnn = models.vgg19(pretrained=True).features.to(device).eval()"
   ],
   "metadata": {
    "id": "bweSFPDOO0au"
   },
   "execution_count": null,
   "outputs": []
  },
  {
   "cell_type": "code",
   "source": [
    "cnn_normalization_mean = torch.tensor([0.485, 0.456, 0.406]).to(device)\n",
    "cnn_normalization_std = torch.tensor([0.229, 0.224, 0.225]).to(device)\n",
    "\n",
    "# create a module to normalize input image so we can easily put it in a\n",
    "# nn.Sequential\n",
    "class Normalization(nn.Module):\n",
    "    def __init__(self, mean, std):\n",
    "        super(Normalization, self).__init__()\n",
    "        # .view the mean and std to make them [C x 1 x 1] so that they can\n",
    "        # directly work with image Tensor of shape [B x C x H x W].\n",
    "        # B is batch size. C is number of channels. H is height and W is width.\n",
    "        self.mean = torch.tensor(mean).view(-1, 1, 1)\n",
    "        self.std = torch.tensor(std).view(-1, 1, 1)\n",
    "\n",
    "    def forward(self, img):\n",
    "        # normalize img\n",
    "        return (img - self.mean) / self.std"
   ],
   "metadata": {
    "id": "icxRFqwVO3yS"
   },
   "execution_count": null,
   "outputs": []
  },
  {
   "cell_type": "code",
   "source": [
    "#@title Building the model that with layers that produce gram matrices.\n",
    "#@markdown Iterates over the prebuilt vgg network, makes changes if nescessary (change \"layer\" to whatever we want to insert in iteration (see Relu)) <br>(**TODO: change max pooling to avg pooling?**). <br>\n",
    "#@markdown if the layer was one of the style layers we enter our custom style layer in between. that layer does not actually do anything to the data in the network, but gives us a way to extract the style matrix after the image ran though the network\n",
    "#@markdown Returnes the model and an array to access style matrices.\n",
    "# desired depth layers to compute style/content losses :\n",
    "\n",
    "\n",
    "#content_layers_default = ['conv_4']\n",
    "style_layers_default = ['conv1_2', 'conv2_2', 'conv3_4', 'conv4_4', 'conv5_4']\n",
    "\n",
    "def get_style_model_and_style_extract_layers(cnn, normalization_mean, normalization_std,\n",
    "                               #style_img, content_img,\n",
    "                               #content_layers=content_layers_default,\n",
    "                               style_layers=style_layers_default):\n",
    "    # normalization module\n",
    "    normalization = Normalization(normalization_mean, normalization_std).to(device)\n",
    "\n",
    "    # just in order to have an iterable access to or list of content/syle\n",
    "    # losses\n",
    "    #content_losses = []\n",
    "    style_grams = []\n",
    "\n",
    "    # assuming that cnn is a nn.Sequential, so we make a new nn.Sequential\n",
    "    # to put in modules that are supposed to be activated sequentially\n",
    "    model = nn.Sequential(normalization)\n",
    "\n",
    "    i = 1  # increment every time we see a conv resets when pooling\n",
    "    j = 1  # increase every time we see a pooling\n",
    "    for layer in cnn.children():\n",
    "        if isinstance(layer, nn.Conv2d):\n",
    "            name = 'conv{}_{}'.format(j,i)\n",
    "            i += 1\n",
    "        elif isinstance(layer, nn.ReLU):\n",
    "            name = 'relu{}_{}'.format(j,i)\n",
    "            # The in-place version doesn't play very nicely with the ContentLoss\n",
    "            # and StyleLoss we insert below. So we replace with out-of-place\n",
    "            # ones here.\n",
    "            layer = nn.ReLU(inplace=False)\n",
    "        elif isinstance(layer, nn.MaxPool2d):\n",
    "            name = 'pool{}_{}'.format(j,i)\n",
    "            layer = nn.AvgPool2d(3) #@markdown changed to avg pool here like Match did in their paper\n",
    "            j += 1\n",
    "            i = 1\n",
    "        elif isinstance(layer, nn.BatchNorm2d):\n",
    "            name = 'bn{}_{}'.format(j,i)\n",
    "        else:\n",
    "            raise RuntimeError('Unrecognized layer: {}'.format(layer.__class__.__name__))\n",
    "\n",
    "        model.add_module(name, layer)\n",
    "\n",
    "        if name in style_layers:\n",
    "            style_extract = StyleExtract()\n",
    "            model.add_module(\"-----------------style_extract_{}\".format(j), style_extract)\n",
    "            style_grams.append(style_extract)\n",
    "\n",
    "            if name == style_layers[-1]:\n",
    "              break\n",
    "\n",
    "    # now we trim off the layers after the last content and style losses\n",
    "    # for i in range(len(model) - 1, -1, -1):\n",
    "    #     if isinstance(model[i], StyleExtract):\n",
    "    #         break\n",
    "\n",
    "    #model = model[:(i + 1)]\n",
    "\n",
    "    return model, style_grams #, content_losses"
   ],
   "metadata": {
    "id": "eCAlKDl9O92h"
   },
   "execution_count": null,
   "outputs": []
  },
  {
   "cell_type": "code",
   "source": [
    "model, styles = get_style_model_and_style_extract_layers(cnn, cnn_normalization_mean, cnn_normalization_std)"
   ],
   "metadata": {
    "colab": {
     "base_uri": "https://localhost:8080/"
    },
    "id": "JRr3xeIezQSu",
    "outputId": "891fed5d-4606-430a-e001-ce538ae791a4"
   },
   "execution_count": null,
   "outputs": [
    {
     "output_type": "stream",
     "name": "stderr",
     "text": [
      "C:\\Users\\MWINKE~1\\AppData\\Local\\Temp/ipykernel_14824/1744401072.py:12: UserWarning: To copy construct from a tensor, it is recommended to use sourceTensor.clone().detach() or sourceTensor.clone().detach().requires_grad_(True), rather than torch.tensor(sourceTensor).\n",
      "  self.mean = torch.tensor(mean).view(-1, 1, 1)\n",
      "C:\\Users\\MWINKE~1\\AppData\\Local\\Temp/ipykernel_14824/1744401072.py:13: UserWarning: To copy construct from a tensor, it is recommended to use sourceTensor.clone().detach() or sourceTensor.clone().detach().requires_grad_(True), rather than torch.tensor(sourceTensor).\n",
      "  self.std = torch.tensor(std).view(-1, 1, 1)\n"
     ]
    }
   ]
  },
  {
   "cell_type": "code",
   "source": [
    "model"
   ],
   "metadata": {
    "id": "AR68vUykBljL",
    "outputId": "bd8ff976-a278-4b28-89a6-bd96efa6321f",
    "colab": {
     "base_uri": "https://localhost:8080/"
    }
   },
   "execution_count": null,
   "outputs": [
    {
     "output_type": "execute_result",
     "data": {
      "text/plain": [
       "Sequential(\n",
       "  (0): Normalization()\n",
       "  (conv1_1): Conv2d(3, 64, kernel_size=(3, 3), stride=(1, 1), padding=(1, 1))\n",
       "  (relu1_2): ReLU()\n",
       "  (conv1_2): Conv2d(64, 64, kernel_size=(3, 3), stride=(1, 1), padding=(1, 1))\n",
       "  (-----------------style_extract_1): StyleExtract()\n",
       "  (relu1_3): ReLU()\n",
       "  (pool1_3): AvgPool2d(kernel_size=3, stride=3, padding=0)\n",
       "  (conv2_1): Conv2d(64, 128, kernel_size=(3, 3), stride=(1, 1), padding=(1, 1))\n",
       "  (relu2_2): ReLU()\n",
       "  (conv2_2): Conv2d(128, 128, kernel_size=(3, 3), stride=(1, 1), padding=(1, 1))\n",
       "  (-----------------style_extract_2): StyleExtract()\n",
       "  (relu2_3): ReLU()\n",
       "  (pool2_3): AvgPool2d(kernel_size=3, stride=3, padding=0)\n",
       "  (conv3_1): Conv2d(128, 256, kernel_size=(3, 3), stride=(1, 1), padding=(1, 1))\n",
       "  (relu3_2): ReLU()\n",
       "  (conv3_2): Conv2d(256, 256, kernel_size=(3, 3), stride=(1, 1), padding=(1, 1))\n",
       "  (relu3_3): ReLU()\n",
       "  (conv3_3): Conv2d(256, 256, kernel_size=(3, 3), stride=(1, 1), padding=(1, 1))\n",
       "  (relu3_4): ReLU()\n",
       "  (conv3_4): Conv2d(256, 256, kernel_size=(3, 3), stride=(1, 1), padding=(1, 1))\n",
       "  (-----------------style_extract_3): StyleExtract()\n",
       "  (relu3_5): ReLU()\n",
       "  (pool3_5): AvgPool2d(kernel_size=3, stride=3, padding=0)\n",
       "  (conv4_1): Conv2d(256, 512, kernel_size=(3, 3), stride=(1, 1), padding=(1, 1))\n",
       "  (relu4_2): ReLU()\n",
       "  (conv4_2): Conv2d(512, 512, kernel_size=(3, 3), stride=(1, 1), padding=(1, 1))\n",
       "  (relu4_3): ReLU()\n",
       "  (conv4_3): Conv2d(512, 512, kernel_size=(3, 3), stride=(1, 1), padding=(1, 1))\n",
       "  (relu4_4): ReLU()\n",
       "  (conv4_4): Conv2d(512, 512, kernel_size=(3, 3), stride=(1, 1), padding=(1, 1))\n",
       "  (-----------------style_extract_4): StyleExtract()\n",
       "  (relu4_5): ReLU()\n",
       "  (pool4_5): AvgPool2d(kernel_size=3, stride=3, padding=0)\n",
       "  (conv5_1): Conv2d(512, 512, kernel_size=(3, 3), stride=(1, 1), padding=(1, 1))\n",
       "  (relu5_2): ReLU()\n",
       "  (conv5_2): Conv2d(512, 512, kernel_size=(3, 3), stride=(1, 1), padding=(1, 1))\n",
       "  (relu5_3): ReLU()\n",
       "  (conv5_3): Conv2d(512, 512, kernel_size=(3, 3), stride=(1, 1), padding=(1, 1))\n",
       "  (relu5_4): ReLU()\n",
       "  (conv5_4): Conv2d(512, 512, kernel_size=(3, 3), stride=(1, 1), padding=(1, 1))\n",
       "  (-----------------style_extract_5): StyleExtract()\n",
       ")"
      ]
     },
     "metadata": {},
     "execution_count": 55
    }
   ]
  },
  {
   "cell_type": "code",
   "source": [
    "loadDirectory = r'C:\\Users\\mwinkelmueller\\Dropbox\\Masl Stuff\\BachelorArbeit\\Datasets\\BiggerShaderDataset\\Renders'\n",
    "saveDirectory = r'C:\\Users\\mwinkelmueller\\Dropbox\\Masl Stuff\\BachelorArbeit\\Datasets\\BiggerShaderDataset\\Grams'\n",
    "\n",
    "\n",
    "\n",
    "\n",
    "grams = {}\n",
    "\n",
    "mins = [float('inf')] * 5\n",
    "maxs = [float('-inf')] * 5\n",
    "hist = []\n",
    "\n",
    "model, styles = get_style_model_and_style_extract_layers(cnn, cnn_normalization_mean, cnn_normalization_std)\n",
    "\n",
    "count = 0\n",
    "\n",
    "print(\"Generating Grams\")\n",
    "for filename in tqdm(os.listdir(loadDirectory)):\n",
    "\n",
    "  if not filename.endswith(\".exr\"):\n",
    "    continue\n",
    "\n",
    "  loadPath = os.path.join(loadDirectory,filename)\n",
    "\n",
    "  im = image_loader(loadPath)\n",
    "\n",
    "  with torch.no_grad():\n",
    "    model(im)\n",
    "\n",
    "  for i, style in enumerate(styles):    #why the fuck did i do it this ugly way. why. i need a break\n",
    "    gram = style.gram.cpu()\n",
    "    #grams[filename + str(i)] = gram\n",
    "    maxs[i] = max(maxs[i], torch.max(gram))\n",
    "    mins[i] = min(mins[i], torch.min(gram))\n",
    "    hist[i] += np.histogram(gram,bins=10)\n",
    "\n",
    "\n",
    "  torch.cuda.empty_cache()\n",
    "\n",
    "\n",
    "print(maxs)\n",
    "print(mins)\n",
    "\n",
    "\n"
   ],
   "metadata": {
    "id": "VLl5jZA7-ne6",
    "colab": {
     "base_uri": "https://localhost:8080/"
    },
    "outputId": "ef484621-4b99-4e1f-d2b1-2f19767e1ec1"
   },
   "execution_count": null,
   "outputs": [
    {
     "output_type": "stream",
     "name": "stderr",
     "text": [
      "C:\\Users\\MWINKE~1\\AppData\\Local\\Temp/ipykernel_14824/1744401072.py:12: UserWarning: To copy construct from a tensor, it is recommended to use sourceTensor.clone().detach() or sourceTensor.clone().detach().requires_grad_(True), rather than torch.tensor(sourceTensor).\n",
      "  self.mean = torch.tensor(mean).view(-1, 1, 1)\n",
      "C:\\Users\\MWINKE~1\\AppData\\Local\\Temp/ipykernel_14824/1744401072.py:13: UserWarning: To copy construct from a tensor, it is recommended to use sourceTensor.clone().detach() or sourceTensor.clone().detach().requires_grad_(True), rather than torch.tensor(sourceTensor).\n",
      "  self.std = torch.tensor(std).view(-1, 1, 1)\n"
     ]
    },
    {
     "output_type": "stream",
     "name": "stdout",
     "text": [
      "Generating Grams\n"
     ]
    },
    {
     "output_type": "stream",
     "name": "stderr",
     "text": [
      "\r  0%|                                                                                       | 0/100000 [00:00<?, ?it/s]C:\\Users\\MWINKE~1\\AppData\\Local\\Temp/ipykernel_14824/2045026391.py:35: DeprecationWarning: The binary mode of fromstring is deprecated, as it behaves surprisingly on unicode inputs. Use frombuffer instead\n",
      "  C = np.fromstring(C, dtype=np.float32)\n",
      "100%|████████████████████████████████████████████████████████████████████████| 100000/100000 [1:46:15<00:00, 15.68it/s]"
     ]
    },
    {
     "output_type": "stream",
     "name": "stdout",
     "text": [
      "[tensor(637.8943), tensor(554.4865), tensor(405.1444), tensor(45.7615), tensor(4.8098)]\n",
      "[tensor(-617.9616), tensor(-253.7502), tensor(-148.7658), tensor(-23.1019), tensor(-2.9467)]\n"
     ]
    },
    {
     "output_type": "stream",
     "name": "stderr",
     "text": [
      "\n"
     ]
    }
   ]
  },
  {
   "cell_type": "markdown",
   "source": [
    "[tensor(637.8943), tensor(554.4865), tensor(405.1444), tensor(45.7615), tensor(4.8098)]\n",
    "\n",
    "[tensor(-617.9616), tensor(-253.7502), tensor(-148.7658), tensor(-23.1019), tensor(-2.9467)]"
   ],
   "metadata": {
    "id": "E64DmcEzJkQ1"
   }
  },
  {
   "cell_type": "code",
   "source": [
    "print(\"normalising and saving Grams\")\n",
    "\n",
    "#maxs = torch.tensor([637.8943, 554.4865, 405.1444, 45.7615, 4.8098])\n",
    "#mins = torch.tensor([-617.9616, -253.7502, -148.7658, -23.1019, -2.9467])\n",
    "\n",
    "\n",
    "#for filename in tqdm(os.listdir(loadDirectory)):\n",
    "for filename in tqdm(os.listdir(loadDirectory)):\n",
    "\n",
    "  concatMat = torch.empty(0)\n",
    "\n",
    "  if not filename.endswith(\".exr\"):\n",
    "    continue\n",
    "\n",
    "  loadPath = os.path.join(loadDirectory,filename)\n",
    "  savePath = os.path.join(saveDirectory,filename + \"_ConcatGram\")\n",
    "\n",
    "  im = image_loader(loadPath)\n",
    "\n",
    "  with torch.no_grad():\n",
    "    model(im)\n",
    "\n",
    "\n",
    "  for i, style in enumerate(styles):\n",
    "    matrix = style.gram.cpu()\n",
    "    matrix = matrix.subtract(mins[i])\n",
    "    matrix = matrix.div(maxs[i] - mins[i])\n",
    "\n",
    "    if torch.max(matrix) > 1 or torch.min(matrix) < 0:\n",
    "      print(\"ALAAARRMM\")\n",
    "\n",
    "    concatMat = torch.cat([concatMat, torch.flatten(matrix)], dim=0)\n",
    "\n",
    "\n",
    "\n",
    "\n",
    "  torch.save(concatMat, savePath)\n",
    "\n",
    "  torch.cuda.empty_cache()\n",
    "\n",
    "print(concatMat.shape)"
   ],
   "metadata": {
    "id": "RpOWeCjjYelR",
    "colab": {
     "base_uri": "https://localhost:8080/"
    },
    "outputId": "31dba687-a25e-4973-e826-126de8127b86"
   },
   "execution_count": null,
   "outputs": [
    {
     "output_type": "stream",
     "name": "stdout",
     "text": [
      "normalising and saving Grams\n"
     ]
    },
    {
     "output_type": "stream",
     "name": "stderr",
     "text": [
      "  0%|                                                                                       | 0/100000 [00:00<?, ?it/s]C:\\Users\\MWINKE~1\\AppData\\Local\\Temp/ipykernel_14824/2045026391.py:35: DeprecationWarning: The binary mode of fromstring is deprecated, as it behaves surprisingly on unicode inputs. Use frombuffer instead\n",
      "  C = np.fromstring(C, dtype=np.float32)\n",
      "100%|████████████████████████████████████████████████████████████████████████| 100000/100000 [1:35:34<00:00, 17.44it/s]"
     ]
    },
    {
     "output_type": "stream",
     "name": "stdout",
     "text": [
      "torch.Size([610304])\n"
     ]
    },
    {
     "output_type": "stream",
     "name": "stderr",
     "text": [
      "\n"
     ]
    }
   ]
  },
  {
   "cell_type": "markdown",
   "source": [
    "# Testing shenanigans"
   ],
   "metadata": {
    "id": "KMtic640-oBW"
   }
  },
  {
   "cell_type": "code",
   "source": [
    "from operator import itemgetter\n",
    "maxItem = [0] * 5\n",
    "minMaxItem = [999999999] * 5\n",
    "minItem = [10000000000] * 5\n",
    "maxMinItem = [-999999] * 5\n",
    "#allGrams[3][\"gram1\"]\n",
    "\n",
    "for grams in tqdm(allGrams):\n",
    "\n",
    "  for i in range(5):\n",
    "    maxItem[i] =    max(maxItem[i], grams['gram'+str(i)+ \" max\"])\n",
    "    minMaxItem[i] = min(minMaxItem[i], grams['gram'+str(i)+ \" max\"])\n",
    "    minItem[i] =    min(minItem[i], grams['gram'+str(i)+ \" min\"])\n",
    "    maxMinItem[i] = max(maxMinItem[i], grams['gram'+str(i)+ \" min\"])\n"
   ],
   "metadata": {
    "colab": {
     "base_uri": "https://localhost:8080/"
    },
    "id": "JpspEZIxnJbE",
    "outputId": "cd057828-b235-40d6-90ae-a46879ce99b0"
   },
   "execution_count": null,
   "outputs": [
    {
     "output_type": "stream",
     "name": "stderr",
     "text": [
      "100%|█████████████████████████████████████████████████████████████████████████████████████████████████████████████████████████████████████████████████████████████████████████████████████████████████████████████████████████████████████████████| 10000/10000 [00:00<00:00, 14855.71it/s]\n"
     ]
    }
   ]
  },
  {
   "cell_type": "code",
   "source": [
    "print(maxItem  )\n",
    "print(minMaxItem)\n",
    "print(minItem  )\n",
    "print(maxMinItem)"
   ],
   "metadata": {
    "colab": {
     "base_uri": "https://localhost:8080/"
    },
    "id": "P54MEZBjoMCJ",
    "outputId": "dee40d5c-dd9e-4661-ff44-a76d207e38a9"
   },
   "execution_count": null,
   "outputs": [
    {
     "output_type": "stream",
     "name": "stdout",
     "text": [
      "[tensor(33.1186), tensor(28.9133), tensor(138.9145), tensor(25.5923), tensor(3.6506)]\n",
      "[tensor(5.2760), tensor(8.1205), tensor(33.2691), tensor(4.3334), tensor(2.6855)]\n",
      "[tensor(-28.2296), tensor(-24.2494), tensor(-62.1443), tensor(-10.1801), tensor(-2.6729)]\n",
      "[tensor(-4.0909), tensor(-4.1236), tensor(-8.7225), tensor(-1.3851), tensor(-1.1448)]\n"
     ]
    }
   ]
  },
  {
   "cell_type": "code",
   "source": [
    "test = []\n",
    "\n",
    "test.append(4)\n",
    "print(test)"
   ],
   "metadata": {
    "id": "zx7lzA3R-nRJ"
   },
   "execution_count": null,
   "outputs": []
  },
  {
   "cell_type": "code",
   "source": [
    "im = image_loader('/content/image.exr')\n",
    "model(im)"
   ],
   "metadata": {
    "id": "sntbmnnU66sS"
   },
   "execution_count": null,
   "outputs": []
  },
  {
   "cell_type": "code",
   "source": [],
   "metadata": {
    "id": "JHpI4FrO687T"
   },
   "execution_count": null,
   "outputs": []
  },
  {
   "cell_type": "code",
   "source": [
    "for style in styles:\n",
    "\n",
    "  print(\"min = {}, max = {}, diff= {}\".format(torch.min(style.gram), torch.max(style.gram), torch.min(style.gram) - torch.max(style.gram)))\n",
    "  imshow(style.gram)\n"
   ],
   "metadata": {
    "id": "XcrNDZivBuaO"
   },
   "execution_count": null,
   "outputs": []
  },
  {
   "cell_type": "code",
   "source": [
    "for style in styles:\n",
    "\n",
    "\n",
    "  show = style.gram.add(-torch.min(style.gram))\n",
    "  show = show.div(torch.max(show))\n",
    "  print(\"min = {}, max = {}, diff= {}\".format(torch.min(show), torch.max(show), torch.min(show) - torch.max(show)))\n",
    "  imshow(show)\n",
    "  plt.figure()\n",
    "  hist = [0] * 100\n",
    "  thisHist = np.histogram(show.detach(),bins=10,range=[0,1])\n",
    "  print(thisHist[0])\n",
    "  plt.bar(thisHist[1][:10],thisHist[0][:10])"
   ],
   "metadata": {
    "id": "efBoMESD5_ER"
   },
   "execution_count": null,
   "outputs": []
  },
  {
   "cell_type": "code",
   "source": [
    "hist = [0] * 100\n",
    "thisHist = np.histogram(data,bins=100,range=[-10,20])\n",
    "plt.bar(thisHist[1][:100],hist[:100])\n"
   ],
   "metadata": {
    "id": "PMCPn9eW7ItV"
   },
   "execution_count": null,
   "outputs": []
  },
  {
   "cell_type": "code",
   "source": [
    "show.save()"
   ],
   "metadata": {
    "id": "c_qrLkZy9K6f"
   },
   "execution_count": null,
   "outputs": []
  },
  {
   "cell_type": "code",
   "source": [
    "\n",
    "\n",
    "  # #path = os.path.join(directory,filename)\n",
    "path = '/content/image.exr'\n",
    "\n",
    "image = image_loader(path)\n",
    "\n",
    "imshow(image)\n"
   ],
   "metadata": {
    "id": "w8d8-bCLCBfz"
   },
   "execution_count": null,
   "outputs": []
  },
  {
   "cell_type": "code",
   "source": [
    "img.shape"
   ],
   "metadata": {
    "id": "oPsJ2kvdJJ2a"
   },
   "execution_count": null,
   "outputs": []
  }
 ]
}
